{
 "cells": [
  {
   "cell_type": "code",
   "execution_count": 1,
   "metadata": {},
   "outputs": [],
   "source": [
    "import pandas as pd\n",
    "from sklearn.cluster import KMeans\n",
    "from sklearn.manifold import TSNE\n",
    "from sklearn.preprocessing import StandardScaler\n",
    "import matplotlib.pyplot as plt"
   ]
  },
  {
   "cell_type": "code",
   "execution_count": 2,
   "metadata": {},
   "outputs": [],
   "source": [
    "df = pd.read_csv(\"February 19.csv\", index_col=\"Unnamed: 0\")"
   ]
  },
  {
   "cell_type": "code",
   "execution_count": 3,
   "metadata": {},
   "outputs": [
    {
     "data": {
      "text/html": [
       "<div>\n",
       "<style scoped>\n",
       "    .dataframe tbody tr th:only-of-type {\n",
       "        vertical-align: middle;\n",
       "    }\n",
       "\n",
       "    .dataframe tbody tr th {\n",
       "        vertical-align: top;\n",
       "    }\n",
       "\n",
       "    .dataframe thead th {\n",
       "        text-align: right;\n",
       "    }\n",
       "</style>\n",
       "<table border=\"1\" class=\"dataframe\">\n",
       "  <thead>\n",
       "    <tr style=\"text-align: right;\">\n",
       "      <th></th>\n",
       "      <th>ATMs Onsite</th>\n",
       "      <th>ATMs Offsite</th>\n",
       "      <th>POS Online</th>\n",
       "      <th>Credits cards outstanding at the end of the month</th>\n",
       "      <th>CC No. of transactions ATM</th>\n",
       "      <th>CC No. of transactions POS</th>\n",
       "      <th>CC Amount of transactions ATM</th>\n",
       "      <th>CC Amount of transactions POS</th>\n",
       "      <th>Debits cards outstanding at the end of the month</th>\n",
       "      <th>DC No. of transactions ATM</th>\n",
       "      <th>DC No. of transactions POS</th>\n",
       "      <th>DC Amount of transactions ATM</th>\n",
       "      <th>DC Amount of transactions POS</th>\n",
       "    </tr>\n",
       "  </thead>\n",
       "  <tbody>\n",
       "    <tr>\n",
       "      <th>0</th>\n",
       "      <td>631</td>\n",
       "      <td>200</td>\n",
       "      <td>3176</td>\n",
       "      <td>0</td>\n",
       "      <td>0</td>\n",
       "      <td>0</td>\n",
       "      <td>0</td>\n",
       "      <td>0</td>\n",
       "      <td>6049046</td>\n",
       "      <td>8736133</td>\n",
       "      <td>2893368</td>\n",
       "      <td>20881</td>\n",
       "      <td>2870</td>\n",
       "    </tr>\n",
       "    <tr>\n",
       "      <th>1</th>\n",
       "      <td>3025</td>\n",
       "      <td>773</td>\n",
       "      <td>15895</td>\n",
       "      <td>297282</td>\n",
       "      <td>14808</td>\n",
       "      <td>523048</td>\n",
       "      <td>74</td>\n",
       "      <td>1288</td>\n",
       "      <td>28048189</td>\n",
       "      <td>9846798</td>\n",
       "      <td>5858733</td>\n",
       "      <td>32749</td>\n",
       "      <td>7162</td>\n",
       "    </tr>\n",
       "    <tr>\n",
       "      <th>2</th>\n",
       "      <td>6430</td>\n",
       "      <td>3247</td>\n",
       "      <td>51960</td>\n",
       "      <td>216885</td>\n",
       "      <td>8515</td>\n",
       "      <td>526791</td>\n",
       "      <td>32</td>\n",
       "      <td>1156</td>\n",
       "      <td>59918420</td>\n",
       "      <td>19719888</td>\n",
       "      <td>10904078</td>\n",
       "      <td>84197</td>\n",
       "      <td>12860</td>\n",
       "    </tr>\n",
       "    <tr>\n",
       "      <th>3</th>\n",
       "      <td>2596</td>\n",
       "      <td>3558</td>\n",
       "      <td>64884</td>\n",
       "      <td>184049</td>\n",
       "      <td>22048</td>\n",
       "      <td>287734</td>\n",
       "      <td>122</td>\n",
       "      <td>716</td>\n",
       "      <td>59139931</td>\n",
       "      <td>34343155</td>\n",
       "      <td>8217880</td>\n",
       "      <td>63170</td>\n",
       "      <td>8315</td>\n",
       "    </tr>\n",
       "    <tr>\n",
       "      <th>4</th>\n",
       "      <td>1314</td>\n",
       "      <td>556</td>\n",
       "      <td>3105</td>\n",
       "      <td>0</td>\n",
       "      <td>0</td>\n",
       "      <td>0</td>\n",
       "      <td>0</td>\n",
       "      <td>0</td>\n",
       "      <td>5085031</td>\n",
       "      <td>6772706</td>\n",
       "      <td>3983391</td>\n",
       "      <td>24071</td>\n",
       "      <td>2867</td>\n",
       "    </tr>\n",
       "  </tbody>\n",
       "</table>\n",
       "</div>"
      ],
      "text/plain": [
       "   ATMs Onsite  ATMs Offsite  POS Online  \\\n",
       "0          631           200        3176   \n",
       "1         3025           773       15895   \n",
       "2         6430          3247       51960   \n",
       "3         2596          3558       64884   \n",
       "4         1314           556        3105   \n",
       "\n",
       "   Credits cards outstanding at the end of the month  \\\n",
       "0                                                  0   \n",
       "1                                             297282   \n",
       "2                                             216885   \n",
       "3                                             184049   \n",
       "4                                                  0   \n",
       "\n",
       "   CC No. of transactions ATM  CC No. of transactions POS  \\\n",
       "0                           0                           0   \n",
       "1                       14808                      523048   \n",
       "2                        8515                      526791   \n",
       "3                       22048                      287734   \n",
       "4                           0                           0   \n",
       "\n",
       "   CC Amount of transactions ATM  CC Amount of transactions POS  \\\n",
       "0                              0                              0   \n",
       "1                             74                           1288   \n",
       "2                             32                           1156   \n",
       "3                            122                            716   \n",
       "4                              0                              0   \n",
       "\n",
       "   Debits cards outstanding at the end of the month  \\\n",
       "0                                           6049046   \n",
       "1                                          28048189   \n",
       "2                                          59918420   \n",
       "3                                          59139931   \n",
       "4                                           5085031   \n",
       "\n",
       "   DC No. of transactions ATM  DC No. of transactions POS  \\\n",
       "0                     8736133                     2893368   \n",
       "1                     9846798                     5858733   \n",
       "2                    19719888                    10904078   \n",
       "3                    34343155                     8217880   \n",
       "4                     6772706                     3983391   \n",
       "\n",
       "   DC Amount of transactions ATM  DC Amount of transactions POS  \n",
       "0                          20881                           2870  \n",
       "1                          32749                           7162  \n",
       "2                          84197                          12860  \n",
       "3                          63170                           8315  \n",
       "4                          24071                           2867  "
      ]
     },
     "execution_count": 3,
     "metadata": {},
     "output_type": "execute_result"
    }
   ],
   "source": [
    "df = df.drop(\"Bank Name\", axis = 1)\n",
    "\n",
    "df.head()"
   ]
  },
  {
   "cell_type": "code",
   "execution_count": 4,
   "metadata": {},
   "outputs": [
    {
     "name": "stderr",
     "output_type": "stream",
     "text": [
      "/home/ankita/anaconda3/lib/python3.7/site-packages/sklearn/preprocessing/data.py:625: DataConversionWarning: Data with input dtype int64 were all converted to float64 by StandardScaler.\n",
      "  return self.partial_fit(X, y)\n",
      "/home/ankita/anaconda3/lib/python3.7/site-packages/ipykernel_launcher.py:5: DataConversionWarning: Data with input dtype int64 were all converted to float64 by StandardScaler.\n",
      "  \"\"\"\n"
     ]
    }
   ],
   "source": [
    "scaler = StandardScaler()\n",
    "\n",
    "scaler.fit(df)\n",
    "\n",
    "df_scaled = scaler.transform(df)"
   ]
  },
  {
   "cell_type": "code",
   "execution_count": 5,
   "metadata": {},
   "outputs": [],
   "source": [
    "number_of_clusters = range(3, 12)\n",
    "inertia = []\n",
    "\n",
    "for i in number_of_clusters:\n",
    "    \n",
    "    model = KMeans(n_clusters=i)\n",
    "\n",
    "    model.fit(df_scaled)\n",
    "    \n",
    "    inertia.append(model.inertia_)"
   ]
  },
  {
   "cell_type": "code",
   "execution_count": 6,
   "metadata": {},
   "outputs": [
    {
     "data": {
      "text/plain": [
       "[154.44316731761538,\n",
       " 94.97671638693015,\n",
       " 70.97116870828302,\n",
       " 48.48587125158851,\n",
       " 32.084544738369246,\n",
       " 24.952123037084256,\n",
       " 20.70550671383149,\n",
       " 16.178893318692353,\n",
       " 13.43656825066235]"
      ]
     },
     "execution_count": 6,
     "metadata": {},
     "output_type": "execute_result"
    }
   ],
   "source": [
    "inertia"
   ]
  },
  {
   "cell_type": "code",
   "execution_count": 7,
   "metadata": {},
   "outputs": [
    {
     "data": {
      "image/png": "[encoded data removed]",
      "text/plain": [
       "<Figure size 432x288 with 1 Axes>"
      ]
     },
     "metadata": {
      "needs_background": "light"
     },
     "output_type": "display_data"
    }
   ],
   "source": [
    "plt.plot(number_of_clusters, inertia, marker='o')\n",
    "plt.xlabel(\"number of clusters : k\")\n",
    "plt.ylabel(\"inertia\")\n",
    "plt.show()"
   ]
  },
  {
   "cell_type": "code",
   "execution_count": 8,
   "metadata": {},
   "outputs": [
    {
     "name": "stdout",
     "output_type": "stream",
     "text": [
      "[0 6 6 6 0 6 0 0 0 0 0 0 0 6 0 0 6 0 0 0 1 2 0 0 0 0 0 0 3 2 0 5 0 0 0 5 4\n",
      " 0 0 0 0 5 0 0 5 0 0 0 0 0 0 0 0 0 0 0 0 0 0 0 0 0 0 0 0 0]\n"
     ]
    }
   ],
   "source": [
    "model = KMeans(n_clusters = 7)\n",
    "\n",
    "model.fit(df_scaled)\n",
    "\n",
    "labels = model.predict(df_scaled)\n",
    "\n",
    "print(labels)"
   ]
  },
  {
   "cell_type": "code",
   "execution_count": 9,
   "metadata": {},
   "outputs": [
    {
     "data": {
      "image/png": "[encoded data removed]",
      "text/plain": [
       "<Figure size 432x288 with 1 Axes>"
      ]
     },
     "metadata": {
      "needs_background": "light"
     },
     "output_type": "display_data"
    }
   ],
   "source": [
    "x = df_scaled[:, 0]\n",
    "y = df_scaled[:, 8]\n",
    "\n",
    "plt.scatter(x, y, c=labels)\n",
    "plt.xlim(-0.75, 1.5)\n",
    "plt.ylim(-0.5, 1)\n",
    "plt.show()"
   ]
  },
  {
   "cell_type": "code",
   "execution_count": 10,
   "metadata": {},
   "outputs": [],
   "source": [
    "model = TSNE(learning_rate=100)\n",
    "\n",
    "df_transformed = model.fit_transform(df_scaled)"
   ]
  },
  {
   "cell_type": "code",
   "execution_count": 11,
   "metadata": {},
   "outputs": [
    {
     "data": {
      "image/png": "[encoded data removed]",
      "text/plain": [
       "<Figure size 432x288 with 1 Axes>"
      ]
     },
     "metadata": {
      "needs_background": "light"
     },
     "output_type": "display_data"
    }
   ],
   "source": [
    "x = df_transformed[:, 0]\n",
    "y = df_transformed[:, 1]\n",
    "\n",
    "plt.scatter(x, y, c=labels)\n",
    "plt.show()"
   ]
  },
  {
   "cell_type": "code",
   "execution_count": null,
   "metadata": {},
   "outputs": [],
   "source": []
  }
 ],
 "metadata": {
  "kernelspec": {
   "display_name": "Python 3",
   "language": "python",
   "name": "python3"
  },
  "language_info": {
   "codemirror_mode": {
    "name": "ipython",
    "version": 3
   },
   "file_extension": ".py",
   "mimetype": "text/x-python",
   "name": "python",
   "nbconvert_exporter": "python",
   "pygments_lexer": "ipython3",
   "version": "3.7.1"
  }
 },
 "nbformat": 4,
 "nbformat_minor": 2
}
